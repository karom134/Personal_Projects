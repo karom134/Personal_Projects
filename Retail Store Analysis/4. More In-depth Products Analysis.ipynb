{
 "cells": [
  {
   "cell_type": "code",
   "execution_count": 1,
   "id": "712a2b7e",
   "metadata": {},
   "outputs": [],
   "source": [
    "import pandas as pd\n",
    "import matplotlib.pyplot as plt\n",
    "import numpy as np\n",
    "import time\n",
    "from collections import defaultdict\n",
    "from scipy import stats"
   ]
  },
  {
   "cell_type": "code",
   "execution_count": 2,
   "id": "dd0fbd9f",
   "metadata": {},
   "outputs": [],
   "source": [
    "transactions = pd.read_csv(\"./data/dh_transactions.csv\")\n",
    "products = pd.read_csv(\"./data/dh_product_lookup.csv\")"
   ]
  },
  {
   "cell_type": "code",
   "execution_count": 3,
   "id": "9b14b9fc",
   "metadata": {},
   "outputs": [],
   "source": [
    "data = transactions.join(products.set_index('upc'),on = \"upc\")"
   ]
  },
  {
   "cell_type": "markdown",
   "id": "c84024a4",
   "metadata": {},
   "source": [
    "since the next section we will do various probability calculating so removing an underperformed products/brands before hand will simplify the process a lot. In this case, We will remove products/brands that sold under 100 times across 2 years."
   ]
  },
  {
   "cell_type": "code",
   "execution_count": 49,
   "id": "1c26e955",
   "metadata": {},
   "outputs": [],
   "source": [
    "brands = data[\"brand\"].value_counts()\n",
    "products = data[\"product_description\"].value_counts()\n",
    "\n",
    "cut_brands = brands[brands <= 100].index\n",
    "cut_products = products[products <= 100].index\n",
    "\n",
    "data = data[~data[\"brand\"].isin(cut_brands)]\n",
    "data = data[~data[\"product_description\"].isin(cut_products)]"
   ]
  },
  {
   "cell_type": "code",
   "execution_count": 50,
   "id": "f4663dea",
   "metadata": {},
   "outputs": [],
   "source": [
    "baskets = data.groupby(['basket'])"
   ]
  },
  {
   "cell_type": "markdown",
   "id": "29a9505e",
   "metadata": {},
   "source": [
    "# Calculate probability that customers will buy only that product/brand"
   ]
  },
  {
   "cell_type": "code",
   "execution_count": 51,
   "id": "267ff5d7",
   "metadata": {},
   "outputs": [
    {
     "name": "stderr",
     "output_type": "stream",
     "text": [
      "/var/folders/lc/b2zpsxhx5wj0p33dk9d2hplh0000gn/T/ipykernel_4350/4008163490.py:2: FutureWarning: In a future version of pandas, a length 1 tuple will be returned when iterating over a groupby with a grouper equal to a list of length 1. Don't supply a list with a single grouper to avoid this warning.\n",
      "  for basket_name ,basket in baskets:\n"
     ]
    }
   ],
   "source": [
    "baskets_with_single_product = []\n",
    "for basket_name ,basket in baskets:\n",
    "    if len(basket) == 1:\n",
    "        baskets_with_single_product.append(basket_name)"
   ]
  },
  {
   "cell_type": "code",
   "execution_count": 52,
   "id": "a7f4a37c",
   "metadata": {},
   "outputs": [],
   "source": [
    "single_product_data = data[data[\"basket\"].isin(baskets_with_single_product)]"
   ]
  },
  {
   "cell_type": "code",
   "execution_count": 66,
   "id": "b6a551f0",
   "metadata": {},
   "outputs": [],
   "source": [
    "prob_single_commodities = single_product_data[\"commodity\"].value_counts()/data[\"commodity\"].value_counts()"
   ]
  },
  {
   "cell_type": "code",
   "execution_count": 64,
   "id": "56392221",
   "metadata": {},
   "outputs": [],
   "source": [
    "prob_single_products = single_product_data[\"product_description\"].value_counts()/data[\"product_description\"].value_counts()"
   ]
  },
  {
   "cell_type": "code",
   "execution_count": 60,
   "id": "09a27894",
   "metadata": {},
   "outputs": [],
   "source": [
    "prob_single_brands = single_product_data[\"brand\"].value_counts()/data[\"brand\"].value_counts()"
   ]
  },
  {
   "cell_type": "code",
   "execution_count": 144,
   "id": "b7d19038",
   "metadata": {},
   "outputs": [
    {
     "data": {
      "text/plain": [
       "Hunt's             0.272681\n",
       "Classico           0.289781\n",
       "Ragu               0.289907\n",
       "Bertolli           0.299365\n",
       "Prego              0.309537\n",
       "                     ...   \n",
       "Grandma Molases    0.737790\n",
       "Brier Rabbit       0.746555\n",
       "Sobrab Bkstrp      0.749851\n",
       "HSE                0.771739\n",
       "La Moderna         0.853448\n",
       "Name: brand, Length: 70, dtype: float64"
      ]
     },
     "execution_count": 144,
     "metadata": {},
     "output_type": "execute_result"
    }
   ],
   "source": [
    "prob_single_brands.sort_values()"
   ]
  },
  {
   "cell_type": "code",
   "execution_count": 154,
   "id": "36a0a680",
   "metadata": {},
   "outputs": [
    {
     "data": {
      "text/plain": [
       "pasta sauce      0.294000\n",
       "pasta            0.401447\n",
       "pancake mixes    0.432527\n",
       "syrups           0.608599\n",
       "Name: commodity, dtype: float64"
      ]
     },
     "execution_count": 154,
     "metadata": {},
     "output_type": "execute_result"
    }
   ],
   "source": [
    "prob_single_commodities.sort_values()"
   ]
  },
  {
   "cell_type": "code",
   "execution_count": 149,
   "id": "eb1aa304",
   "metadata": {},
   "outputs": [
    {
     "data": {
      "text/plain": [
       "array(['pasta'], dtype=object)"
      ]
     },
     "execution_count": 149,
     "metadata": {},
     "output_type": "execute_result"
    }
   ],
   "source": [
    "data[data[\"brand\"] == \"La Moderna\"][\"commodity\"].unique()"
   ]
  },
  {
   "cell_type": "code",
   "execution_count": 151,
   "id": "3b7d78cb",
   "metadata": {},
   "outputs": [
    {
     "data": {
      "text/plain": [
       "array(['syrups'], dtype=object)"
      ]
     },
     "execution_count": 151,
     "metadata": {},
     "output_type": "execute_result"
    }
   ],
   "source": [
    "data[data[\"brand\"] == \"HSE\"][\"commodity\"].unique()"
   ]
  },
  {
   "cell_type": "code",
   "execution_count": 153,
   "id": "4a10e871",
   "metadata": {},
   "outputs": [
    {
     "data": {
      "text/plain": [
       "array(['syrups'], dtype=object)"
      ]
     },
     "execution_count": 153,
     "metadata": {},
     "output_type": "execute_result"
    }
   ],
   "source": [
    "data[data[\"brand\"] == \"Sobrab Bkstrp\"][\"commodity\"].unique()"
   ]
  },
  {
   "cell_type": "markdown",
   "id": "31747d3a",
   "metadata": {},
   "source": [
    "# Calculate Probability that customers will buy 2 given products/brands together"
   ]
  },
  {
   "cell_type": "code",
   "execution_count": 70,
   "id": "ce06277f",
   "metadata": {},
   "outputs": [],
   "source": [
    "multi_product_data = data[~data[\"basket\"].isin(baskets_with_single_product)]"
   ]
  },
  {
   "cell_type": "code",
   "execution_count": 73,
   "id": "ca57e87d",
   "metadata": {},
   "outputs": [],
   "source": [
    "multi_product_baskets = multi_product_data.groupby(['basket'])"
   ]
  },
  {
   "cell_type": "code",
   "execution_count": 129,
   "id": "7f8900b0",
   "metadata": {},
   "outputs": [
    {
     "name": "stderr",
     "output_type": "stream",
     "text": [
      "/var/folders/lc/b2zpsxhx5wj0p33dk9d2hplh0000gn/T/ipykernel_4350/4234669301.py:4: FutureWarning: In a future version of pandas, a length 1 tuple will be returned when iterating over a groupby with a grouper equal to a list of length 1. Don't supply a list with a single grouper to avoid this warning.\n",
      "  for basket_id ,basket in baskets:\n"
     ]
    },
    {
     "name": "stdout",
     "output_type": "stream",
     "text": [
      "basket : 200001, time: 28.33632493019104\n",
      "basket : 400001, time: 53.48141288757324\n",
      "basket : 600001, time: 80.970449924469\n",
      "basket : 800001, time: 109.08711910247803\n",
      "basket : 1000001, time: 146.72439408302307\n",
      "basket : 1200001, time: 180.51022219657898\n",
      "basket : 1400001, time: 211.31916117668152\n",
      "basket : 1600001, time: 242.3439440727234\n",
      "basket : 1800001, time: 273.43626594543457\n",
      "basket : 2000001, time: 304.72812509536743\n",
      "basket : 2200001, time: 335.0639500617981\n",
      "basket : 2400001, time: 365.55337405204773\n",
      "basket : 2600001, time: 396.8131091594696\n",
      "basket : 2800001, time: 428.25536584854126\n",
      "basket : 3000001, time: 464.4826591014862\n",
      "basket : 3200001, time: 496.30604815483093\n"
     ]
    }
   ],
   "source": [
    "commodity_collections = {}\n",
    "check = 200000\n",
    "s=time.time()\n",
    "for basket_id ,basket in baskets:\n",
    "    collection = defaultdict(int)\n",
    "    \n",
    "    # There are a case where the unit isn't 1 so we need to take that into account\n",
    "    for _id,row in basket.iterrows():\n",
    "        collection[row[\"commodity\"]] += row[\"units\"]\n",
    "    commodity_collections[basket_id] = collection\n",
    "    \n",
    "    if basket_id > check:\n",
    "        e = time.time()\n",
    "        print(f\"basket : {basket_id}, time: {e-s}\")\n",
    "        check += 200000\n"
   ]
  },
  {
   "cell_type": "code",
   "execution_count": 130,
   "id": "177ed64e",
   "metadata": {},
   "outputs": [
    {
     "name": "stderr",
     "output_type": "stream",
     "text": [
      "/var/folders/lc/b2zpsxhx5wj0p33dk9d2hplh0000gn/T/ipykernel_4350/1779566045.py:4: FutureWarning: In a future version of pandas, a length 1 tuple will be returned when iterating over a groupby with a grouper equal to a list of length 1. Don't supply a list with a single grouper to avoid this warning.\n",
      "  for basket_id ,basket in baskets:\n"
     ]
    },
    {
     "name": "stdout",
     "output_type": "stream",
     "text": [
      "basket : 200001, time: 34.547085762023926\n",
      "basket : 400001, time: 65.5997519493103\n",
      "basket : 600001, time: 96.57375597953796\n",
      "basket : 800001, time: 127.02918291091919\n",
      "basket : 1000001, time: 157.65265274047852\n",
      "basket : 1200001, time: 187.9719638824463\n",
      "basket : 1400001, time: 218.88635873794556\n",
      "basket : 1600001, time: 250.01762986183167\n",
      "basket : 1800001, time: 280.85636591911316\n",
      "basket : 2000001, time: 311.5839099884033\n",
      "basket : 2200001, time: 347.5334618091583\n",
      "basket : 2400001, time: 381.2188286781311\n",
      "basket : 2600001, time: 414.78519773483276\n",
      "basket : 2800001, time: 446.57677698135376\n",
      "basket : 3000001, time: 477.18012499809265\n",
      "basket : 3200001, time: 508.55888271331787\n"
     ]
    }
   ],
   "source": [
    "brand_collections = {}\n",
    "check = 200000\n",
    "s=time.time()\n",
    "for basket_id ,basket in baskets:\n",
    "    collection = defaultdict(int)\n",
    "    \n",
    "    # There are a case where the unit isn't 1 so we need to take that into account\n",
    "    for _id,row in basket.iterrows():\n",
    "        collection[row[\"brand\"]] += row[\"units\"]\n",
    "    brand_collections[basket_id] = collection\n",
    "    \n",
    "    if basket_id > check:\n",
    "        e = time.time()\n",
    "        print(f\"basket : {basket_id}, time: {e-s}\")\n",
    "        check += 200000"
   ]
  },
  {
   "cell_type": "code",
   "execution_count": 131,
   "id": "72f5f9b4",
   "metadata": {},
   "outputs": [
    {
     "name": "stderr",
     "output_type": "stream",
     "text": [
      "/var/folders/lc/b2zpsxhx5wj0p33dk9d2hplh0000gn/T/ipykernel_4350/3552992282.py:4: FutureWarning: In a future version of pandas, a length 1 tuple will be returned when iterating over a groupby with a grouper equal to a list of length 1. Don't supply a list with a single grouper to avoid this warning.\n",
      "  for basket_id ,basket in baskets:\n"
     ]
    },
    {
     "name": "stdout",
     "output_type": "stream",
     "text": [
      "basket : 200001, time: 37.05305194854736\n",
      "basket : 400001, time: 71.0735821723938\n",
      "basket : 600001, time: 104.74058794975281\n",
      "basket : 800001, time: 136.4825210571289\n",
      "basket : 1000001, time: 166.55057501792908\n",
      "basket : 1200001, time: 196.23241806030273\n",
      "basket : 1400001, time: 225.62112402915955\n",
      "basket : 1600001, time: 255.24258518218994\n",
      "basket : 1800001, time: 291.74751687049866\n",
      "basket : 2000001, time: 322.10955286026\n",
      "basket : 2200001, time: 352.9223539829254\n",
      "basket : 2400001, time: 383.54249596595764\n",
      "basket : 2600001, time: 413.88081884384155\n",
      "basket : 2800001, time: 445.9849741458893\n",
      "basket : 3000001, time: 476.2845780849457\n",
      "basket : 3200001, time: 507.40276193618774\n"
     ]
    }
   ],
   "source": [
    "product_collections = {}\n",
    "check = 200000\n",
    "s=time.time()\n",
    "for basket_id ,basket in baskets:\n",
    "    collection = defaultdict(int)\n",
    "    \n",
    "    # There are a case where the unit isn't 1 so we need to take that into account\n",
    "    for _id,row in basket.iterrows():\n",
    "        collection[row[\"product_description\"]] += row[\"units\"]\n",
    "    product_collections[basket_id] = collection\n",
    "    \n",
    "    if basket_id > check:\n",
    "        e = time.time()\n",
    "        print(f\"basket : {basket_id}, time: {e-s}\")\n",
    "        check += 200000"
   ]
  },
  {
   "cell_type": "code",
   "execution_count": 124,
   "id": "76d05b76",
   "metadata": {},
   "outputs": [],
   "source": [
    "# Calculate P(A and B)\n",
    "def cal_prob(product_group, collections):\n",
    "    c = 0\n",
    "    for basket_id in collections:\n",
    "        collection = collections[basket_id]\n",
    "        tracker = 0\n",
    "        for key in product_group.keys():\n",
    "            if product_group[key] <= collection.get(key,0):\n",
    "                tracker += 1\n",
    "            \n",
    "        if tracker == len(product_group):\n",
    "            c += 1\n",
    "    return c / len(collections)\n",
    "\n",
    "# Calculate P(A given B)\n",
    "def bayes( A, B, feature):\n",
    "    if feature == \"brand\":\n",
    "        collections = brand_collections\n",
    "    elif feature == \"commodity\":\n",
    "        collections = commodity_collections\n",
    "    elif feature == \"product\":\n",
    "        collections = product_collections\n",
    "    \n",
    "    group = {}\n",
    "    group[A] = group.get(A,0) + 1\n",
    "    group[B] = group.get(B,0) + 1\n",
    "    \n",
    "    p_a_and_b = cal_prob(group, collections)\n",
    "    \n",
    "    # Calculate P(B)\n",
    "    c = 0\n",
    "    for basket_id in collections:\n",
    "        collection = collections[basket_id]\n",
    "        if B in collection:\n",
    "            c += 1\n",
    "    p_b = c / len(collections)\n",
    "    \n",
    "    return p_a_and_b/p_b"
   ]
  },
  {
   "cell_type": "code",
   "execution_count": 155,
   "id": "142e5e49",
   "metadata": {},
   "outputs": [
    {
     "data": {
      "text/plain": [
       "0.16342623548720445"
      ]
     },
     "execution_count": 155,
     "metadata": {},
     "output_type": "execute_result"
    }
   ],
   "source": [
    "bayes(\"pancake mixes\", \"syrups\", \"commodity\")"
   ]
  },
  {
   "cell_type": "markdown",
   "id": "de173649",
   "metadata": {},
   "source": [
    "## Conclusion\n",
    "\n",
    "With this calculation, we can get a relation between each commodity/product/brand, which we can use this to design more sophisticated promotion instead of simple discount coupon.\n",
    "\n",
    "For example,\n",
    "1. There are 41.78% chance that a customer who buy pasta will also buy pasta sauce.<br>\n",
    "    -This information can support us if we want to launch a campaign like \"You will get 10% discount when buying pasta and pasta sauce together\"<br>\n",
    "2. There are 40.79% chance that a customer who buy pancake mixes will also buy syrups.<br>\n",
    "    -With this information, we can tell our cashiers that if a customer come to their station with pancake mixes but no syrups, they can offer syrups at special price for that customer.<br>\n",
    "3. If customers buy product from Private Label brand, there are 14.49% that they will additionally buy product from Ragu Brand or 6.73% that they will add product from Prego to their basket.<br>\n",
    "    -in case we want to pick a brand to pair with Private Label in our new campaign, we can use this to calculate and see that Ragu is more suitable brand for this campaign than Prego.<br>\n",
    "    \n",
    "This can also combine with the previous section analysis.\n",
    "1. From previous section, we know that top 3 brand that customer buy without getting other products are La Moderna, HSE and Sobrab Bkstrp.\n",
    "2. We also know that La Moderna sells only pasta and HSE/Sobrab Bkstrp sell only syrups.\n",
    "3. Since we know that 41.78% of customers who buy pasta will also buy pasta sauce and 16.34% of customers who buy syrups will also buy pancake mixes, we can include these brand a campaign like<br>\n",
    "    -\"You can buy products from La Moderna brand with any pasta sauce at discounted price\"<br>\n",
    "    -\"You can buy products from HSE/Sobrab Bkstrp brand with any pancake mixes at discounted price\"<br>"
   ]
  }
 ],
 "metadata": {
  "kernelspec": {
   "display_name": "Python 3 (ipykernel)",
   "language": "python",
   "name": "python3"
  },
  "language_info": {
   "codemirror_mode": {
    "name": "ipython",
    "version": 3
   },
   "file_extension": ".py",
   "mimetype": "text/x-python",
   "name": "python",
   "nbconvert_exporter": "python",
   "pygments_lexer": "ipython3",
   "version": "3.11.2"
  }
 },
 "nbformat": 4,
 "nbformat_minor": 5
}
