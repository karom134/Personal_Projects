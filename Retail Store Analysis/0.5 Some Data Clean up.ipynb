{
 "cells": [
  {
   "cell_type": "code",
   "execution_count": 1,
   "id": "a3a54bdd",
   "metadata": {},
   "outputs": [],
   "source": [
    "import pandas as pd\n",
    "import matplotlib.pyplot as plt\n",
    "import numpy as np\n",
    "import time\n",
    "from collections import defaultdict\n",
    "from scipy import stats"
   ]
  },
  {
   "cell_type": "markdown",
   "id": "e74b650a",
   "metadata": {},
   "source": [
    "During EDA, I found that there are some weird behaviors in the dataset when customers use a coupon. Coupon usage can cause the dollar_sales to drop below 0 sometimes which I think it doesn't make much sense. So I will change it to 0, if it lie in this case (There are 0.148% of datapoints belong to this case). There are also 0.036% of datapoints that have dollar_sales below 0 even though there are no coupon use. For a case like this I will treat it as mistake on recording part and change a coupon columns to 1 while change dollar_sales to 0. "
   ]
  },
  {
   "cell_type": "code",
   "execution_count": 25,
   "id": "f27f1ed7",
   "metadata": {},
   "outputs": [],
   "source": [
    "transactions = pd.read_csv(\"./data/dh_transactions.csv\")"
   ]
  },
  {
   "cell_type": "code",
   "execution_count": 26,
   "id": "63becce4",
   "metadata": {},
   "outputs": [],
   "source": [
    "def transition(num):\n",
    "    return max(0,num)"
   ]
  },
  {
   "cell_type": "code",
   "execution_count": 27,
   "id": "91e9d63c",
   "metadata": {},
   "outputs": [],
   "source": [
    "transactions[\"dollar_sales\"] = transactions[\"dollar_sales\"].apply(transition)"
   ]
  },
  {
   "cell_type": "code",
   "execution_count": 28,
   "id": "a2cdbc4f",
   "metadata": {},
   "outputs": [],
   "source": [
    "new_coupon = []\n",
    "for row in transactions.itertuples():\n",
    "    if row.dollar_sales > 0:\n",
    "        new_coupon.append(row.coupon)\n",
    "    else:\n",
    "        new_coupon.append(1)"
   ]
  },
  {
   "cell_type": "code",
   "execution_count": 29,
   "id": "95fb7edc",
   "metadata": {},
   "outputs": [],
   "source": [
    "transactions[\"coupon\"] = new_coupon"
   ]
  },
  {
   "cell_type": "code",
   "execution_count": 31,
   "id": "0905cc59",
   "metadata": {},
   "outputs": [],
   "source": [
    "transactions.to_csv(\"./data/dh_transactions.csv\",index = False)s"
   ]
  },
  {
   "cell_type": "code",
   "execution_count": null,
   "id": "43eb84ba",
   "metadata": {},
   "outputs": [],
   "source": []
  }
 ],
 "metadata": {
  "kernelspec": {
   "display_name": "Python 3 (ipykernel)",
   "language": "python",
   "name": "python3"
  },
  "language_info": {
   "codemirror_mode": {
    "name": "ipython",
    "version": 3
   },
   "file_extension": ".py",
   "mimetype": "text/x-python",
   "name": "python",
   "nbconvert_exporter": "python",
   "pygments_lexer": "ipython3",
   "version": "3.11.2"
  }
 },
 "nbformat": 4,
 "nbformat_minor": 5
}
