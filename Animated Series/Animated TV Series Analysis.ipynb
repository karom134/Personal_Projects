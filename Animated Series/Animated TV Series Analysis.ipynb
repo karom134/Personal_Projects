{
 "cells": [
  {
   "cell_type": "code",
   "execution_count": 1,
   "id": "9bc94979-2ef0-438e-a9e6-399921b798f1",
   "metadata": {},
   "outputs": [],
   "source": [
    "import pandas as pd\n",
    "import matplotlib.pyplot as plt\n",
    "import numpy as np"
   ]
  },
  {
   "cell_type": "markdown",
   "id": "3bbb0bd5-ee94-4be1-81a0-580e43624baa",
   "metadata": {},
   "source": [
    "# Preparing the data"
   ]
  },
  {
   "cell_type": "code",
   "execution_count": 2,
   "id": "f5a75057-5a3e-4ffd-b46c-db17e2d9934e",
   "metadata": {},
   "outputs": [],
   "source": [
    "data = pd.read_csv(\"./data/Animated_Tv_Series.csv\", encoding = \"ISO-8859-1\")"
   ]
  },
  {
   "cell_type": "code",
   "execution_count": 3,
   "id": "f2327c75-30ba-463e-9f65-7f4117149d40",
   "metadata": {},
   "outputs": [
    {
     "data": {
      "text/html": [
       "<div>\n",
       "<style scoped>\n",
       "    .dataframe tbody tr th:only-of-type {\n",
       "        vertical-align: middle;\n",
       "    }\n",
       "\n",
       "    .dataframe tbody tr th {\n",
       "        vertical-align: top;\n",
       "    }\n",
       "\n",
       "    .dataframe thead th {\n",
       "        text-align: right;\n",
       "    }\n",
       "</style>\n",
       "<table border=\"1\" class=\"dataframe\">\n",
       "  <thead>\n",
       "    <tr style=\"text-align: right;\">\n",
       "      <th></th>\n",
       "      <th>Id</th>\n",
       "      <th>Title</th>\n",
       "      <th>Episodes</th>\n",
       "      <th>Year</th>\n",
       "      <th>Original channel</th>\n",
       "      <th>American company</th>\n",
       "      <th>Note</th>\n",
       "      <th>Technique</th>\n",
       "      <th>IMDb</th>\n",
       "      <th>Google users</th>\n",
       "    </tr>\n",
       "  </thead>\n",
       "  <tbody>\n",
       "    <tr>\n",
       "      <th>0</th>\n",
       "      <td>1</td>\n",
       "      <td>2 Stupid Dogs</td>\n",
       "      <td>26.0</td>\n",
       "      <td>1993-1995</td>\n",
       "      <td>TBS</td>\n",
       "      <td>Hanna-Barbera</td>\n",
       "      <td>NaN</td>\n",
       "      <td>Traditional</td>\n",
       "      <td>7.2</td>\n",
       "      <td>91%</td>\n",
       "    </tr>\n",
       "    <tr>\n",
       "      <th>1</th>\n",
       "      <td>2</td>\n",
       "      <td>3-2-1 Penguins!</td>\n",
       "      <td>27.0</td>\n",
       "      <td>2000-2008</td>\n",
       "      <td>Direct to video</td>\n",
       "      <td>Big Idea Productions</td>\n",
       "      <td>NaN</td>\n",
       "      <td>CGI</td>\n",
       "      <td>6.5</td>\n",
       "      <td>91%</td>\n",
       "    </tr>\n",
       "    <tr>\n",
       "      <th>2</th>\n",
       "      <td>3</td>\n",
       "      <td>3-South</td>\n",
       "      <td>13.0</td>\n",
       "      <td>2002-2003</td>\n",
       "      <td>MTV</td>\n",
       "      <td>Warner Bros. AnimationMTV Animation</td>\n",
       "      <td>NaN</td>\n",
       "      <td>Traditional</td>\n",
       "      <td>8.0</td>\n",
       "      <td>87%</td>\n",
       "    </tr>\n",
       "    <tr>\n",
       "      <th>3</th>\n",
       "      <td>4</td>\n",
       "      <td>3Below: Tales of Arcadia</td>\n",
       "      <td>28.0</td>\n",
       "      <td>2018-2019</td>\n",
       "      <td>Netflix</td>\n",
       "      <td>DreamWorks Animation Television</td>\n",
       "      <td>NaN</td>\n",
       "      <td>CGI</td>\n",
       "      <td>7.6</td>\n",
       "      <td>77%</td>\n",
       "    </tr>\n",
       "    <tr>\n",
       "      <th>4</th>\n",
       "      <td>5</td>\n",
       "      <td>3rd &amp; Bird</td>\n",
       "      <td>51.0</td>\n",
       "      <td>2008-2010</td>\n",
       "      <td>Playhouse Disney</td>\n",
       "      <td>Little Airplane Productions</td>\n",
       "      <td>British co-production</td>\n",
       "      <td>Flash</td>\n",
       "      <td>7.8</td>\n",
       "      <td>92%</td>\n",
       "    </tr>\n",
       "    <tr>\n",
       "      <th>...</th>\n",
       "      <td>...</td>\n",
       "      <td>...</td>\n",
       "      <td>...</td>\n",
       "      <td>...</td>\n",
       "      <td>...</td>\n",
       "      <td>...</td>\n",
       "      <td>...</td>\n",
       "      <td>...</td>\n",
       "      <td>...</td>\n",
       "      <td>...</td>\n",
       "    </tr>\n",
       "    <tr>\n",
       "      <th>1811</th>\n",
       "      <td>1812</td>\n",
       "      <td>The ZhuZhus</td>\n",
       "      <td>26.0</td>\n",
       "      <td>2016-2017</td>\n",
       "      <td>Disney Channel</td>\n",
       "      <td>Cepia LLC</td>\n",
       "      <td>Canadian co-production</td>\n",
       "      <td>Flash</td>\n",
       "      <td>5.5</td>\n",
       "      <td>72%</td>\n",
       "    </tr>\n",
       "    <tr>\n",
       "      <th>1812</th>\n",
       "      <td>1813</td>\n",
       "      <td>Zoboomafoo</td>\n",
       "      <td>65.0</td>\n",
       "      <td>1999-2001</td>\n",
       "      <td>PBS Kids</td>\n",
       "      <td>Maryland Public Television</td>\n",
       "      <td>Canadian co-production</td>\n",
       "      <td>Stop-motion/Live-action</td>\n",
       "      <td>7.6</td>\n",
       "      <td>95%</td>\n",
       "    </tr>\n",
       "    <tr>\n",
       "      <th>1813</th>\n",
       "      <td>1814</td>\n",
       "      <td>Zombie College</td>\n",
       "      <td>12.0</td>\n",
       "      <td>2000-2001</td>\n",
       "      <td>NaN</td>\n",
       "      <td>icebox.com</td>\n",
       "      <td>NaN</td>\n",
       "      <td>Flash</td>\n",
       "      <td>6.8</td>\n",
       "      <td>62%</td>\n",
       "    </tr>\n",
       "    <tr>\n",
       "      <th>1814</th>\n",
       "      <td>1815</td>\n",
       "      <td>Zootopia+</td>\n",
       "      <td>6.0</td>\n",
       "      <td>2022</td>\n",
       "      <td>Disney+</td>\n",
       "      <td>Walt Disney Animation Studios</td>\n",
       "      <td>NaN</td>\n",
       "      <td>CGI</td>\n",
       "      <td>6.8</td>\n",
       "      <td>74%</td>\n",
       "    </tr>\n",
       "    <tr>\n",
       "      <th>1815</th>\n",
       "      <td>1816</td>\n",
       "      <td>The Zula Patrol</td>\n",
       "      <td>52.0</td>\n",
       "      <td>2005-2008</td>\n",
       "      <td>PBS Kids</td>\n",
       "      <td>The Hatchery</td>\n",
       "      <td>NaN</td>\n",
       "      <td>CGI</td>\n",
       "      <td>6.9</td>\n",
       "      <td>93%</td>\n",
       "    </tr>\n",
       "  </tbody>\n",
       "</table>\n",
       "<p>1816 rows × 10 columns</p>\n",
       "</div>"
      ],
      "text/plain": [
       "        Id                     Title  Episodes       Year  Original channel  \\\n",
       "0        1             2 Stupid Dogs      26.0  1993-1995               TBS   \n",
       "1        2           3-2-1 Penguins!      27.0  2000-2008   Direct to video   \n",
       "2        3                   3-South      13.0  2002-2003               MTV   \n",
       "3        4  3Below: Tales of Arcadia      28.0  2018-2019           Netflix   \n",
       "4        5                3rd & Bird      51.0  2008-2010  Playhouse Disney   \n",
       "...    ...                       ...       ...        ...               ...   \n",
       "1811  1812               The ZhuZhus      26.0  2016-2017    Disney Channel   \n",
       "1812  1813                Zoboomafoo      65.0  1999-2001          PBS Kids   \n",
       "1813  1814            Zombie College      12.0  2000-2001               NaN   \n",
       "1814  1815                 Zootopia+       6.0       2022           Disney+   \n",
       "1815  1816           The Zula Patrol      52.0  2005-2008          PBS Kids   \n",
       "\n",
       "                         American company                    Note  \\\n",
       "0                           Hanna-Barbera                     NaN   \n",
       "1                    Big Idea Productions                     NaN   \n",
       "2     Warner Bros. AnimationMTV Animation                     NaN   \n",
       "3         DreamWorks Animation Television                     NaN   \n",
       "4             Little Airplane Productions   British co-production   \n",
       "...                                   ...                     ...   \n",
       "1811                            Cepia LLC  Canadian co-production   \n",
       "1812           Maryland Public Television  Canadian co-production   \n",
       "1813                           icebox.com                     NaN   \n",
       "1814        Walt Disney Animation Studios                     NaN   \n",
       "1815                         The Hatchery                     NaN   \n",
       "\n",
       "                    Technique  IMDb Google users  \n",
       "0                 Traditional   7.2          91%  \n",
       "1                         CGI   6.5          91%  \n",
       "2                 Traditional   8.0          87%  \n",
       "3                         CGI   7.6          77%  \n",
       "4                       Flash   7.8          92%  \n",
       "...                       ...   ...          ...  \n",
       "1811                    Flash   5.5          72%  \n",
       "1812  Stop-motion/Live-action   7.6          95%  \n",
       "1813                    Flash   6.8          62%  \n",
       "1814                      CGI   6.8          74%  \n",
       "1815                      CGI   6.9          93%  \n",
       "\n",
       "[1816 rows x 10 columns]"
      ]
     },
     "execution_count": 3,
     "metadata": {},
     "output_type": "execute_result"
    }
   ],
   "source": [
    "data"
   ]
  },
  {
   "cell_type": "code",
   "execution_count": 4,
   "id": "683a2ab2-f360-406e-81a1-0082e79e9a97",
   "metadata": {},
   "outputs": [
    {
     "name": "stdout",
     "output_type": "stream",
     "text": [
      "4\n",
      "4\n"
     ]
    }
   ],
   "source": [
    "#Count NaN in more relevent columns i.e. IMDb and Google users\n",
    "print(len(data[data[\"IMDb\"].isnull()]))\n",
    "print(len(data[data[\"Google users\"].isnull()]))"
   ]
  },
  {
   "cell_type": "code",
   "execution_count": 5,
   "id": "bd4cfce5-593f-462e-932d-b75dce8e65e7",
   "metadata": {},
   "outputs": [
    {
     "name": "stdout",
     "output_type": "stream",
     "text": [
      "1810\n"
     ]
    }
   ],
   "source": [
    "# As the number is low, removing them won't have significant on our analysis\n",
    "data = data[-data[\"IMDb\"].isnull()]\n",
    "data = data[-data[\"Google users\"].isnull()]\n",
    "print(len(data))"
   ]
  },
  {
   "cell_type": "code",
   "execution_count": 136,
   "id": "7e1c16df-930f-49d2-a046-b657063514d2",
   "metadata": {},
   "outputs": [],
   "source": [
    "def change_percent_to_float(percent):\n",
    "    percent = percent[:-1]\n",
    "    return int(percent)/10\n",
    "\n",
    "def to_lower(text):\n",
    "    return text.lower()"
   ]
  },
  {
   "cell_type": "code",
   "execution_count": 7,
   "id": "0bba4d50-1c6e-4d83-bf32-f241d46fab81",
   "metadata": {},
   "outputs": [],
   "source": [
    "#Making Google rating have the same scale with IMDb score\n",
    "data[\"Google users\"] = data[\"Google users\"].apply(change_percent_to_float)"
   ]
  },
  {
   "cell_type": "code",
   "execution_count": 137,
   "id": "aae14b2c-3d83-413e-9088-6780d1b61f1b",
   "metadata": {},
   "outputs": [],
   "source": [
    "data[\"Technique\"] = data[\"Technique\"].apply(to_lower)"
   ]
  },
  {
   "cell_type": "markdown",
   "id": "1b03330c-1955-4ca6-8576-5a85a1f9c263",
   "metadata": {},
   "source": [
    "# Rating Analysis"
   ]
  },
  {
   "cell_type": "code",
   "execution_count": 8,
   "id": "3748d345-29b3-4ccb-bed4-79baef8c7b1f",
   "metadata": {},
   "outputs": [],
   "source": [
    "from scipy.stats import pearsonr, skew"
   ]
  },
  {
   "cell_type": "code",
   "execution_count": 9,
   "id": "6df200ff-6673-4a4e-a2be-41c78fdd4e5b",
   "metadata": {},
   "outputs": [
    {
     "name": "stdout",
     "output_type": "stream",
     "text": [
      "0.5282464829191829\n"
     ]
    }
   ],
   "source": [
    "corr, _ = pearsonr(data[\"Google users\"], data[\"IMDb\"])\n",
    "print(corr)"
   ]
  },
  {
   "cell_type": "code",
   "execution_count": 10,
   "id": "8bd51b17-e5c9-4792-8183-0f71502e856f",
   "metadata": {},
   "outputs": [
    {
     "data": {
      "text/plain": [
       "Text(0, 0.5, 'freq')"
      ]
     },
     "execution_count": 10,
     "metadata": {},
     "output_type": "execute_result"
    },
    {
     "data": {
      "image/png": "[encoded data removed]",
      "text/plain": [
       "<Figure size 1000x300 with 2 Axes>"
      ]
     },
     "metadata": {},
     "output_type": "display_data"
    }
   ],
   "source": [
    "fig, (ax1, ax2) = plt.subplots(1, 2, figsize=(10, 3))\n",
    "ax1.hist(data[\"Google users\"])\n",
    "ax1.set_title(\"Google rating\")\n",
    "ax1.set_xlabel(\"rating\")\n",
    "ax1.set_ylabel(\"freq\")\n",
    "ax2.hist(data[\"IMDb\"])\n",
    "ax2.set_title(\"IMDb score\")\n",
    "ax2.set_xlabel(\"score\")\n",
    "ax2.set_ylabel(\"freq\")"
   ]
  },
  {
   "cell_type": "code",
   "execution_count": 11,
   "id": "fe8a9646-93a6-4f02-92a3-2aaa7865cbc6",
   "metadata": {},
   "outputs": [
    {
     "name": "stdout",
     "output_type": "stream",
     "text": [
      "-1.3981104723402056\n",
      "-1.2076124070765104\n"
     ]
    }
   ],
   "source": [
    "print(skew(data[\"Google users\"]))\n",
    "print(skew( data[\"IMDb\"]))"
   ]
  },
  {
   "cell_type": "markdown",
   "id": "f05c1764-302c-49c1-b0d7-9589c6186cea",
   "metadata": {},
   "source": [
    "From our rating analysis, we found that even though both Google rating and IMDb score are relatively correlated and have rather similar distribution, Google rating is more skewing toward the higher score. In conclusion, IMDb users base are holding back more when rating an animated TV show/movie."
   ]
  },
  {
   "cell_type": "markdown",
   "id": "a5bb7f68-ed2c-4f70-a306-f976377bb781",
   "metadata": {},
   "source": [
    "# Clustering them based on rating"
   ]
  },
  {
   "cell_type": "code",
   "execution_count": 48,
   "id": "9db53675-752e-44f6-b85e-ed2ffd586e0d",
   "metadata": {},
   "outputs": [],
   "source": [
    "rating = data[[\"Title\",\"Google users\",\"IMDb\"]]"
   ]
  },
  {
   "cell_type": "code",
   "execution_count": 49,
   "id": "dd17bf4d-3c2b-4c9a-9055-5b4ecadda976",
   "metadata": {},
   "outputs": [],
   "source": [
    "from sklearn.cluster import KMeans"
   ]
  },
  {
   "cell_type": "code",
   "execution_count": 50,
   "id": "9f62d24a-8f16-4d10-a3e7-82fe025acd2b",
   "metadata": {},
   "outputs": [
    {
     "data": {
      "text/plain": [
       "Text(0, 0.5, 'IMDb score')"
      ]
     },
     "execution_count": 50,
     "metadata": {},
     "output_type": "execute_result"
    },
    {
     "data": {
      "image/png": "[encoded data removed]",
      "text/plain": [
       "<Figure size 640x480 with 1 Axes>"
      ]
     },
     "metadata": {},
     "output_type": "display_data"
    }
   ],
   "source": [
    "plt.scatter(rating[\"Google users\"],rating[\"IMDb\"])\n",
    "plt.xlabel(\"Google rating\")\n",
    "plt.ylabel(\"IMDb score\")"
   ]
  },
  {
   "cell_type": "code",
   "execution_count": 51,
   "id": "399cc0ac-d1d2-45d9-8068-2e0019c49112",
   "metadata": {},
   "outputs": [],
   "source": [
    "tmp = []\n",
    "for i in range(1,10):\n",
    "    km = KMeans(n_clusters=i)\n",
    "    km.fit(rating[[\"Google users\",\"IMDb\"]])\n",
    "    tmp.append(km.inertia_)"
   ]
  },
  {
   "cell_type": "code",
   "execution_count": 52,
   "id": "52fc9616-777a-4af8-b5e9-d115a30a40bc",
   "metadata": {},
   "outputs": [
    {
     "data": {
      "text/plain": [
       "[<matplotlib.lines.Line2D at 0x2418b5fbe00>]"
      ]
     },
     "execution_count": 52,
     "metadata": {},
     "output_type": "execute_result"
    },
    {
     "data": {
      "image/png": "[encoded data removed]",
      "text/plain": [
       "<Figure size 640x480 with 1 Axes>"
      ]
     },
     "metadata": {},
     "output_type": "display_data"
    }
   ],
   "source": [
    "plt.plot(np.arange(1,10,1),tmp)"
   ]
  },
  {
   "cell_type": "code",
   "execution_count": 68,
   "id": "1e0ed186-3f49-4279-82cb-0412267d1a1b",
   "metadata": {},
   "outputs": [
    {
     "data": {
      "text/html": [
       "<style>#sk-container-id-7 {\n",
       "  /* Definition of color scheme common for light and dark mode */\n",
       "  --sklearn-color-text: black;\n",
       "  --sklearn-color-line: gray;\n",
       "  /* Definition of color scheme for unfitted estimators */\n",
       "  --sklearn-color-unfitted-level-0: #fff5e6;\n",
       "  --sklearn-color-unfitted-level-1: #f6e4d2;\n",
       "  --sklearn-color-unfitted-level-2: #ffe0b3;\n",
       "  --sklearn-color-unfitted-level-3: chocolate;\n",
       "  /* Definition of color scheme for fitted estimators */\n",
       "  --sklearn-color-fitted-level-0: #f0f8ff;\n",
       "  --sklearn-color-fitted-level-1: #d4ebff;\n",
       "  --sklearn-color-fitted-level-2: #b3dbfd;\n",
       "  --sklearn-color-fitted-level-3: cornflowerblue;\n",
       "\n",
       "  /* Specific color for light theme */\n",
       "  --sklearn-color-text-on-default-background: var(--sg-text-color, var(--theme-code-foreground, var(--jp-content-font-color1, black)));\n",
       "  --sklearn-color-background: var(--sg-background-color, var(--theme-background, var(--jp-layout-color0, white)));\n",
       "  --sklearn-color-border-box: var(--sg-text-color, var(--theme-code-foreground, var(--jp-content-font-color1, black)));\n",
       "  --sklearn-color-icon: #696969;\n",
       "\n",
       "  @media (prefers-color-scheme: dark) {\n",
       "    /* Redefinition of color scheme for dark theme */\n",
       "    --sklearn-color-text-on-default-background: var(--sg-text-color, var(--theme-code-foreground, var(--jp-content-font-color1, white)));\n",
       "    --sklearn-color-background: var(--sg-background-color, var(--theme-background, var(--jp-layout-color0, #111)));\n",
       "    --sklearn-color-border-box: var(--sg-text-color, var(--theme-code-foreground, var(--jp-content-font-color1, white)));\n",
       "    --sklearn-color-icon: #878787;\n",
       "  }\n",
       "}\n",
       "\n",
       "#sk-container-id-7 {\n",
       "  color: var(--sklearn-color-text);\n",
       "}\n",
       "\n",
       "#sk-container-id-7 pre {\n",
       "  padding: 0;\n",
       "}\n",
       "\n",
       "#sk-container-id-7 input.sk-hidden--visually {\n",
       "  border: 0;\n",
       "  clip: rect(1px 1px 1px 1px);\n",
       "  clip: rect(1px, 1px, 1px, 1px);\n",
       "  height: 1px;\n",
       "  margin: -1px;\n",
       "  overflow: hidden;\n",
       "  padding: 0;\n",
       "  position: absolute;\n",
       "  width: 1px;\n",
       "}\n",
       "\n",
       "#sk-container-id-7 div.sk-dashed-wrapped {\n",
       "  border: 1px dashed var(--sklearn-color-line);\n",
       "  margin: 0 0.4em 0.5em 0.4em;\n",
       "  box-sizing: border-box;\n",
       "  padding-bottom: 0.4em;\n",
       "  background-color: var(--sklearn-color-background);\n",
       "}\n",
       "\n",
       "#sk-container-id-7 div.sk-container {\n",
       "  /* jupyter's `normalize.less` sets `[hidden] { display: none; }`\n",
       "     but bootstrap.min.css set `[hidden] { display: none !important; }`\n",
       "     so we also need the `!important` here to be able to override the\n",
       "     default hidden behavior on the sphinx rendered scikit-learn.org.\n",
       "     See: https://github.com/scikit-learn/scikit-learn/issues/21755 */\n",
       "  display: inline-block !important;\n",
       "  position: relative;\n",
       "}\n",
       "\n",
       "#sk-container-id-7 div.sk-text-repr-fallback {\n",
       "  display: none;\n",
       "}\n",
       "\n",
       "div.sk-parallel-item,\n",
       "div.sk-serial,\n",
       "div.sk-item {\n",
       "  /* draw centered vertical line to link estimators */\n",
       "  background-image: linear-gradient(var(--sklearn-color-text-on-default-background), var(--sklearn-color-text-on-default-background));\n",
       "  background-size: 2px 100%;\n",
       "  background-repeat: no-repeat;\n",
       "  background-position: center center;\n",
       "}\n",
       "\n",
       "/* Parallel-specific style estimator block */\n",
       "\n",
       "#sk-container-id-7 div.sk-parallel-item::after {\n",
       "  content: \"\";\n",
       "  width: 100%;\n",
       "  border-bottom: 2px solid var(--sklearn-color-text-on-default-background);\n",
       "  flex-grow: 1;\n",
       "}\n",
       "\n",
       "#sk-container-id-7 div.sk-parallel {\n",
       "  display: flex;\n",
       "  align-items: stretch;\n",
       "  justify-content: center;\n",
       "  background-color: var(--sklearn-color-background);\n",
       "  position: relative;\n",
       "}\n",
       "\n",
       "#sk-container-id-7 div.sk-parallel-item {\n",
       "  display: flex;\n",
       "  flex-direction: column;\n",
       "}\n",
       "\n",
       "#sk-container-id-7 div.sk-parallel-item:first-child::after {\n",
       "  align-self: flex-end;\n",
       "  width: 50%;\n",
       "}\n",
       "\n",
       "#sk-container-id-7 div.sk-parallel-item:last-child::after {\n",
       "  align-self: flex-start;\n",
       "  width: 50%;\n",
       "}\n",
       "\n",
       "#sk-container-id-7 div.sk-parallel-item:only-child::after {\n",
       "  width: 0;\n",
       "}\n",
       "\n",
       "/* Serial-specific style estimator block */\n",
       "\n",
       "#sk-container-id-7 div.sk-serial {\n",
       "  display: flex;\n",
       "  flex-direction: column;\n",
       "  align-items: center;\n",
       "  background-color: var(--sklearn-color-background);\n",
       "  padding-right: 1em;\n",
       "  padding-left: 1em;\n",
       "}\n",
       "\n",
       "\n",
       "/* Toggleable style: style used for estimator/Pipeline/ColumnTransformer box that is\n",
       "clickable and can be expanded/collapsed.\n",
       "- Pipeline and ColumnTransformer use this feature and define the default style\n",
       "- Estimators will overwrite some part of the style using the `sk-estimator` class\n",
       "*/\n",
       "\n",
       "/* Pipeline and ColumnTransformer style (default) */\n",
       "\n",
       "#sk-container-id-7 div.sk-toggleable {\n",
       "  /* Default theme specific background. It is overwritten whether we have a\n",
       "  specific estimator or a Pipeline/ColumnTransformer */\n",
       "  background-color: var(--sklearn-color-background);\n",
       "}\n",
       "\n",
       "/* Toggleable label */\n",
       "#sk-container-id-7 label.sk-toggleable__label {\n",
       "  cursor: pointer;\n",
       "  display: block;\n",
       "  width: 100%;\n",
       "  margin-bottom: 0;\n",
       "  padding: 0.5em;\n",
       "  box-sizing: border-box;\n",
       "  text-align: center;\n",
       "}\n",
       "\n",
       "#sk-container-id-7 label.sk-toggleable__label-arrow:before {\n",
       "  /* Arrow on the left of the label */\n",
       "  content: \"▸\";\n",
       "  float: left;\n",
       "  margin-right: 0.25em;\n",
       "  color: var(--sklearn-color-icon);\n",
       "}\n",
       "\n",
       "#sk-container-id-7 label.sk-toggleable__label-arrow:hover:before {\n",
       "  color: var(--sklearn-color-text);\n",
       "}\n",
       "\n",
       "/* Toggleable content - dropdown */\n",
       "\n",
       "#sk-container-id-7 div.sk-toggleable__content {\n",
       "  max-height: 0;\n",
       "  max-width: 0;\n",
       "  overflow: hidden;\n",
       "  text-align: left;\n",
       "  /* unfitted */\n",
       "  background-color: var(--sklearn-color-unfitted-level-0);\n",
       "}\n",
       "\n",
       "#sk-container-id-7 div.sk-toggleable__content.fitted {\n",
       "  /* fitted */\n",
       "  background-color: var(--sklearn-color-fitted-level-0);\n",
       "}\n",
       "\n",
       "#sk-container-id-7 div.sk-toggleable__content pre {\n",
       "  margin: 0.2em;\n",
       "  border-radius: 0.25em;\n",
       "  color: var(--sklearn-color-text);\n",
       "  /* unfitted */\n",
       "  background-color: var(--sklearn-color-unfitted-level-0);\n",
       "}\n",
       "\n",
       "#sk-container-id-7 div.sk-toggleable__content.fitted pre {\n",
       "  /* unfitted */\n",
       "  background-color: var(--sklearn-color-fitted-level-0);\n",
       "}\n",
       "\n",
       "#sk-container-id-7 input.sk-toggleable__control:checked~div.sk-toggleable__content {\n",
       "  /* Expand drop-down */\n",
       "  max-height: 200px;\n",
       "  max-width: 100%;\n",
       "  overflow: auto;\n",
       "}\n",
       "\n",
       "#sk-container-id-7 input.sk-toggleable__control:checked~label.sk-toggleable__label-arrow:before {\n",
       "  content: \"▾\";\n",
       "}\n",
       "\n",
       "/* Pipeline/ColumnTransformer-specific style */\n",
       "\n",
       "#sk-container-id-7 div.sk-label input.sk-toggleable__control:checked~label.sk-toggleable__label {\n",
       "  color: var(--sklearn-color-text);\n",
       "  background-color: var(--sklearn-color-unfitted-level-2);\n",
       "}\n",
       "\n",
       "#sk-container-id-7 div.sk-label.fitted input.sk-toggleable__control:checked~label.sk-toggleable__label {\n",
       "  background-color: var(--sklearn-color-fitted-level-2);\n",
       "}\n",
       "\n",
       "/* Estimator-specific style */\n",
       "\n",
       "/* Colorize estimator box */\n",
       "#sk-container-id-7 div.sk-estimator input.sk-toggleable__control:checked~label.sk-toggleable__label {\n",
       "  /* unfitted */\n",
       "  background-color: var(--sklearn-color-unfitted-level-2);\n",
       "}\n",
       "\n",
       "#sk-container-id-7 div.sk-estimator.fitted input.sk-toggleable__control:checked~label.sk-toggleable__label {\n",
       "  /* fitted */\n",
       "  background-color: var(--sklearn-color-fitted-level-2);\n",
       "}\n",
       "\n",
       "#sk-container-id-7 div.sk-label label.sk-toggleable__label,\n",
       "#sk-container-id-7 div.sk-label label {\n",
       "  /* The background is the default theme color */\n",
       "  color: var(--sklearn-color-text-on-default-background);\n",
       "}\n",
       "\n",
       "/* On hover, darken the color of the background */\n",
       "#sk-container-id-7 div.sk-label:hover label.sk-toggleable__label {\n",
       "  color: var(--sklearn-color-text);\n",
       "  background-color: var(--sklearn-color-unfitted-level-2);\n",
       "}\n",
       "\n",
       "/* Label box, darken color on hover, fitted */\n",
       "#sk-container-id-7 div.sk-label.fitted:hover label.sk-toggleable__label.fitted {\n",
       "  color: var(--sklearn-color-text);\n",
       "  background-color: var(--sklearn-color-fitted-level-2);\n",
       "}\n",
       "\n",
       "/* Estimator label */\n",
       "\n",
       "#sk-container-id-7 div.sk-label label {\n",
       "  font-family: monospace;\n",
       "  font-weight: bold;\n",
       "  display: inline-block;\n",
       "  line-height: 1.2em;\n",
       "}\n",
       "\n",
       "#sk-container-id-7 div.sk-label-container {\n",
       "  text-align: center;\n",
       "}\n",
       "\n",
       "/* Estimator-specific */\n",
       "#sk-container-id-7 div.sk-estimator {\n",
       "  font-family: monospace;\n",
       "  border: 1px dotted var(--sklearn-color-border-box);\n",
       "  border-radius: 0.25em;\n",
       "  box-sizing: border-box;\n",
       "  margin-bottom: 0.5em;\n",
       "  /* unfitted */\n",
       "  background-color: var(--sklearn-color-unfitted-level-0);\n",
       "}\n",
       "\n",
       "#sk-container-id-7 div.sk-estimator.fitted {\n",
       "  /* fitted */\n",
       "  background-color: var(--sklearn-color-fitted-level-0);\n",
       "}\n",
       "\n",
       "/* on hover */\n",
       "#sk-container-id-7 div.sk-estimator:hover {\n",
       "  /* unfitted */\n",
       "  background-color: var(--sklearn-color-unfitted-level-2);\n",
       "}\n",
       "\n",
       "#sk-container-id-7 div.sk-estimator.fitted:hover {\n",
       "  /* fitted */\n",
       "  background-color: var(--sklearn-color-fitted-level-2);\n",
       "}\n",
       "\n",
       "/* Specification for estimator info (e.g. \"i\" and \"?\") */\n",
       "\n",
       "/* Common style for \"i\" and \"?\" */\n",
       "\n",
       ".sk-estimator-doc-link,\n",
       "a:link.sk-estimator-doc-link,\n",
       "a:visited.sk-estimator-doc-link {\n",
       "  float: right;\n",
       "  font-size: smaller;\n",
       "  line-height: 1em;\n",
       "  font-family: monospace;\n",
       "  background-color: var(--sklearn-color-background);\n",
       "  border-radius: 1em;\n",
       "  height: 1em;\n",
       "  width: 1em;\n",
       "  text-decoration: none !important;\n",
       "  margin-left: 1ex;\n",
       "  /* unfitted */\n",
       "  border: var(--sklearn-color-unfitted-level-1) 1pt solid;\n",
       "  color: var(--sklearn-color-unfitted-level-1);\n",
       "}\n",
       "\n",
       ".sk-estimator-doc-link.fitted,\n",
       "a:link.sk-estimator-doc-link.fitted,\n",
       "a:visited.sk-estimator-doc-link.fitted {\n",
       "  /* fitted */\n",
       "  border: var(--sklearn-color-fitted-level-1) 1pt solid;\n",
       "  color: var(--sklearn-color-fitted-level-1);\n",
       "}\n",
       "\n",
       "/* On hover */\n",
       "div.sk-estimator:hover .sk-estimator-doc-link:hover,\n",
       ".sk-estimator-doc-link:hover,\n",
       "div.sk-label-container:hover .sk-estimator-doc-link:hover,\n",
       ".sk-estimator-doc-link:hover {\n",
       "  /* unfitted */\n",
       "  background-color: var(--sklearn-color-unfitted-level-3);\n",
       "  color: var(--sklearn-color-background);\n",
       "  text-decoration: none;\n",
       "}\n",
       "\n",
       "div.sk-estimator.fitted:hover .sk-estimator-doc-link.fitted:hover,\n",
       ".sk-estimator-doc-link.fitted:hover,\n",
       "div.sk-label-container:hover .sk-estimator-doc-link.fitted:hover,\n",
       ".sk-estimator-doc-link.fitted:hover {\n",
       "  /* fitted */\n",
       "  background-color: var(--sklearn-color-fitted-level-3);\n",
       "  color: var(--sklearn-color-background);\n",
       "  text-decoration: none;\n",
       "}\n",
       "\n",
       "/* Span, style for the box shown on hovering the info icon */\n",
       ".sk-estimator-doc-link span {\n",
       "  display: none;\n",
       "  z-index: 9999;\n",
       "  position: relative;\n",
       "  font-weight: normal;\n",
       "  right: .2ex;\n",
       "  padding: .5ex;\n",
       "  margin: .5ex;\n",
       "  width: min-content;\n",
       "  min-width: 20ex;\n",
       "  max-width: 50ex;\n",
       "  color: var(--sklearn-color-text);\n",
       "  box-shadow: 2pt 2pt 4pt #999;\n",
       "  /* unfitted */\n",
       "  background: var(--sklearn-color-unfitted-level-0);\n",
       "  border: .5pt solid var(--sklearn-color-unfitted-level-3);\n",
       "}\n",
       "\n",
       ".sk-estimator-doc-link.fitted span {\n",
       "  /* fitted */\n",
       "  background: var(--sklearn-color-fitted-level-0);\n",
       "  border: var(--sklearn-color-fitted-level-3);\n",
       "}\n",
       "\n",
       ".sk-estimator-doc-link:hover span {\n",
       "  display: block;\n",
       "}\n",
       "\n",
       "/* \"?\"-specific style due to the `<a>` HTML tag */\n",
       "\n",
       "#sk-container-id-7 a.estimator_doc_link {\n",
       "  float: right;\n",
       "  font-size: 1rem;\n",
       "  line-height: 1em;\n",
       "  font-family: monospace;\n",
       "  background-color: var(--sklearn-color-background);\n",
       "  border-radius: 1rem;\n",
       "  height: 1rem;\n",
       "  width: 1rem;\n",
       "  text-decoration: none;\n",
       "  /* unfitted */\n",
       "  color: var(--sklearn-color-unfitted-level-1);\n",
       "  border: var(--sklearn-color-unfitted-level-1) 1pt solid;\n",
       "}\n",
       "\n",
       "#sk-container-id-7 a.estimator_doc_link.fitted {\n",
       "  /* fitted */\n",
       "  border: var(--sklearn-color-fitted-level-1) 1pt solid;\n",
       "  color: var(--sklearn-color-fitted-level-1);\n",
       "}\n",
       "\n",
       "/* On hover */\n",
       "#sk-container-id-7 a.estimator_doc_link:hover {\n",
       "  /* unfitted */\n",
       "  background-color: var(--sklearn-color-unfitted-level-3);\n",
       "  color: var(--sklearn-color-background);\n",
       "  text-decoration: none;\n",
       "}\n",
       "\n",
       "#sk-container-id-7 a.estimator_doc_link.fitted:hover {\n",
       "  /* fitted */\n",
       "  background-color: var(--sklearn-color-fitted-level-3);\n",
       "}\n",
       "</style><div id=\"sk-container-id-7\" class=\"sk-top-container\"><div class=\"sk-text-repr-fallback\"><pre>KMeans(n_clusters=4)</pre><b>In a Jupyter environment, please rerun this cell to show the HTML representation or trust the notebook. <br />On GitHub, the HTML representation is unable to render, please try loading this page with nbviewer.org.</b></div><div class=\"sk-container\" hidden><div class=\"sk-item\"><div class=\"sk-estimator fitted sk-toggleable\"><input class=\"sk-toggleable__control sk-hidden--visually\" id=\"sk-estimator-id-7\" type=\"checkbox\" checked><label for=\"sk-estimator-id-7\" class=\"sk-toggleable__label fitted sk-toggleable__label-arrow fitted\">&nbsp;&nbsp;KMeans<a class=\"sk-estimator-doc-link fitted\" rel=\"noreferrer\" target=\"_blank\" href=\"https://scikit-learn.org/1.4/modules/generated/sklearn.cluster.KMeans.html\">?<span>Documentation for KMeans</span></a><span class=\"sk-estimator-doc-link fitted\">i<span>Fitted</span></span></label><div class=\"sk-toggleable__content fitted\"><pre>KMeans(n_clusters=4)</pre></div> </div></div></div></div>"
      ],
      "text/plain": [
       "KMeans(n_clusters=4)"
      ]
     },
     "execution_count": 68,
     "metadata": {},
     "output_type": "execute_result"
    }
   ],
   "source": [
    "km = KMeans(n_clusters=4)\n",
    "km.fit(rating[[\"Google users\",\"IMDb\"]])"
   ]
  },
  {
   "cell_type": "code",
   "execution_count": 69,
   "id": "5349114e-c3f0-4f06-9f06-75ca2e1eef13",
   "metadata": {},
   "outputs": [],
   "source": [
    "labels = km.predict(rating[[\"Google users\",\"IMDb\"]])"
   ]
  },
  {
   "cell_type": "code",
   "execution_count": 70,
   "id": "c0d11f9a-8916-40c2-afa8-cd53971f5eb5",
   "metadata": {},
   "outputs": [
    {
     "data": {
      "text/plain": [
       "<matplotlib.legend.Legend at 0x2418b855c70>"
      ]
     },
     "execution_count": 70,
     "metadata": {},
     "output_type": "execute_result"
    },
    {
     "data": {
      "image/png": "[encoded data removed]",
      "text/plain": [
       "<Figure size 640x480 with 1 Axes>"
      ]
     },
     "metadata": {},
     "output_type": "display_data"
    }
   ],
   "source": [
    "plt.scatter(rating[\"Google users\"][labels == 0],rating[\"IMDb\"][labels == 0],label = \"0\")\n",
    "plt.scatter(rating[\"Google users\"][labels == 1],rating[\"IMDb\"][labels == 1],label = \"1\")\n",
    "plt.scatter(rating[\"Google users\"][labels == 2],rating[\"IMDb\"][labels == 2],label = \"2\")\n",
    "plt.scatter(rating[\"Google users\"][labels == 3],rating[\"IMDb\"][labels == 3],label = \"3\")\n",
    "plt.xlabel(\"Google rating\")\n",
    "plt.ylabel(\"IMDb score\")\n",
    "plt.legend()"
   ]
  },
  {
   "cell_type": "code",
   "execution_count": 107,
   "id": "64265d14-e94c-479c-8a39-b023c4f331ac",
   "metadata": {},
   "outputs": [],
   "source": [
    "data[\"class\"] = labels"
   ]
  },
  {
   "cell_type": "code",
   "execution_count": 108,
   "id": "7539f44b-a593-4e65-8eaf-b8cd55b0f137",
   "metadata": {},
   "outputs": [],
   "source": [
    "# This Cell might have to change to suit new model label.\n",
    "def map_class(label):\n",
    "    if label == 0:\n",
    "        return \"A\"\n",
    "    elif label == 1:\n",
    "        return \"C\"\n",
    "    elif label == 2:\n",
    "        return \"B\"\n",
    "    else:\n",
    "        return \"B\""
   ]
  },
  {
   "cell_type": "code",
   "execution_count": 109,
   "id": "564507ff-0cac-45cb-b6f3-b91224bd8a07",
   "metadata": {},
   "outputs": [],
   "source": [
    "data[\"class\"] = data[\"class\"].apply(map_class)"
   ]
  },
  {
   "cell_type": "markdown",
   "id": "93459635-6a1d-4782-a5bb-31cb0bfc183d",
   "metadata": {},
   "source": [
    "From the elbow graph, we can see that the optimal number of clusters is somewhere between 3-4 clusters (I pick 4 in this case as it is a bit easier to explain each cluster). Group 0 are shows/movies that get high Google rating and IMDb score. Group 1 are shows/movies that get low Google rating and IMDb score. Group 2,3 are shows/movies that get high Google rating but low IMDb score and vice versa. As a result, we can put every shows/movies into tier A,B,C based on this 4 clusters (0 to A,1 to B, 2 to C and 3 to B). "
   ]
  },
  {
   "cell_type": "markdown",
   "id": "18a81215-ebdd-48c7-8d58-1e6717645ee6",
   "metadata": {},
   "source": [
    "# Some Interesting Questions"
   ]
  },
  {
   "cell_type": "markdown",
   "id": "62b8a3ea-934a-4a36-a4ef-4f117842d4ef",
   "metadata": {},
   "source": [
    "## Given this dataset, if I want to make an animated TV series, which company should I pick, which channel I should publish it and which technique I should use toget the best result rating-wise???"
   ]
  },
  {
   "cell_type": "markdown",
   "id": "03f22f79-2cbf-4549-97df-4fd230bb1129",
   "metadata": {},
   "source": [
    "There are 2 approaches we can take with this question. The first one is based on the tier we establish from clustering previously. The second approach is based on raw Google rating and IMDb score.\n",
    "\n",
    "Since number of series each company produces aren't the same. Direct counting doesn't sound resonable anymore as we might miss a high quality company that not produces many series(same argument applies to technique and publication channel too)."
   ]
  },
  {
   "cell_type": "markdown",
   "id": "05779147-50c0-4c49-a455-f880a3df0757",
   "metadata": {},
   "source": [
    "### Approach 1"
   ]
  },
  {
   "cell_type": "markdown",
   "id": "056bbe53-0565-4e1e-b6bd-f40eccf545c3",
   "metadata": {},
   "source": [
    "As we explain why counting how many A-tier series each company produced and compare it directly is a wise option. We will use the probability of series produced by that company rank in A-tier as a comparator instead. Also filter out any company that produces low number of series as that might only be a fluke."
   ]
  },
  {
   "cell_type": "code",
   "execution_count": 138,
   "id": "42014419-db96-4dfe-9cd0-3afdd95aa8e5",
   "metadata": {},
   "outputs": [],
   "source": [
    "companies = data[\"American company\"].unique()"
   ]
  },
  {
   "cell_type": "code",
   "execution_count": 139,
   "id": "e6f939fa-a17a-43c5-b49d-a39e372acac5",
   "metadata": {},
   "outputs": [
    {
     "name": "stdout",
     "output_type": "stream",
     "text": [
      "Walt Disney Productions 1.0\n"
     ]
    }
   ],
   "source": [
    "max_prob = 0\n",
    "for company in companies:\n",
    "    if isinstance(company,float):\n",
    "        continue\n",
    "    tmp = data[data[\"American company\"] == company]\n",
    "    if len(tmp) < 5:\n",
    "        continue\n",
    "    prob = len(tmp[tmp['class'] == 'A'])/len(tmp)\n",
    "    if max_prob < prob:\n",
    "        max_prob = prob\n",
    "        best_company = company\n",
    "print(best_company, max_prob)"
   ]
  },
  {
   "cell_type": "code",
   "execution_count": 140,
   "id": "080dd028-35e5-4fa8-be42-9d1592c6122b",
   "metadata": {},
   "outputs": [],
   "source": [
    "publishers = data[\"Original channel\"].unique()"
   ]
  },
  {
   "cell_type": "code",
   "execution_count": 141,
   "id": "663686cc-3f89-4fc5-9e8f-b020460a6b9f",
   "metadata": {},
   "outputs": [
    {
     "name": "stdout",
     "output_type": "stream",
     "text": [
      "Noggin 0.8333333333333334\n"
     ]
    }
   ],
   "source": [
    "max_prob = 0\n",
    "for publisher in publishers:\n",
    "    if isinstance(publisher,float):\n",
    "        continue\n",
    "    tmp = data[data[\"Original channel\"] == publisher]\n",
    "    if len(tmp) < 5:\n",
    "        continue\n",
    "    prob = len(tmp[tmp['class'] == 'A'])/len(tmp)\n",
    "    if max_prob < prob:\n",
    "        max_prob = prob\n",
    "        best_publisher = publisher\n",
    "print(best_publisher, max_prob)"
   ]
  },
  {
   "cell_type": "code",
   "execution_count": 142,
   "id": "075c0c9e-9523-43a5-b0df-b7d5fec788ea",
   "metadata": {},
   "outputs": [],
   "source": [
    "techniques = data[\"Technique\"].unique()"
   ]
  },
  {
   "cell_type": "code",
   "execution_count": 143,
   "id": "505876e2-1b13-4a4c-8d90-2aa2f8afa893",
   "metadata": {},
   "outputs": [
    {
     "name": "stdout",
     "output_type": "stream",
     "text": [
      "traditional/live-action 0.7727272727272727\n"
     ]
    }
   ],
   "source": [
    "max_prob = 0\n",
    "for technique in techniques:\n",
    "    if isinstance(technique,float):\n",
    "        continue\n",
    "    tmp = data[data[\"Technique\"] == technique]\n",
    "    if len(tmp) < 5:\n",
    "        continue\n",
    "    prob = len(tmp[tmp['class'] == 'A'])/len(tmp)\n",
    "    if max_prob < prob:\n",
    "        max_prob = prob\n",
    "        best_technique = technique\n",
    "print(best_technique, max_prob)"
   ]
  },
  {
   "cell_type": "markdown",
   "id": "aaf15ccd-55b4-41f9-b1e3-4a1e9e8da42a",
   "metadata": {},
   "source": [
    "From approach 1, we can conclude that an animated TV series that produces by Walt Disney Productions,uses Traditional/Live-action technique and publishes through Noggin will produce the best result."
   ]
  },
  {
   "cell_type": "markdown",
   "id": "78cc000a-5eaa-4036-bfd7-3e9afbb3372e",
   "metadata": {},
   "source": [
    "### Approach 2"
   ]
  },
  {
   "cell_type": "markdown",
   "id": "beb1ffa3-37af-49b7-b640-efea336df903",
   "metadata": {},
   "source": [
    "For this approach, we will try to answer this question through raw Google rating and IMDb score. To simplify a little bit, the score we will use in this approach is average between Google rating and IMDb score. We can compare likelihood of getting good series by compare skewness of score distribution. The more its skews to the right, the more likelihood of that company/publisher/technique will get high score."
   ]
  },
  {
   "cell_type": "code",
   "execution_count": 144,
   "id": "e561175e-d748-4e2d-9d9f-a9e0b64bedc5",
   "metadata": {},
   "outputs": [],
   "source": [
    "data[\"avg_score\"] = (data['Google users'] + data['IMDb'])/2"
   ]
  },
  {
   "cell_type": "code",
   "execution_count": 145,
   "id": "7900a846-60ed-4b4a-af19-b33146f66ef6",
   "metadata": {},
   "outputs": [
    {
     "name": "stdout",
     "output_type": "stream",
     "text": [
      "Filmation -2.8355570307017333\n"
     ]
    }
   ],
   "source": [
    "min_skewness = 0\n",
    "for company in companies:\n",
    "    if isinstance(company,float):\n",
    "        continue\n",
    "    tmp = data[data[\"American company\"] == company]\n",
    "    if len(tmp) < 5:\n",
    "        continue\n",
    "    skewness = skew(tmp[\"avg_score\"])\n",
    "    if min_skewness > skewness:\n",
    "        min_skewness = skewness\n",
    "        best_company = company\n",
    "print(best_company, min_skewness)"
   ]
  },
  {
   "cell_type": "code",
   "execution_count": 146,
   "id": "8bd332a4-97e9-4489-be89-668d581d6564",
   "metadata": {},
   "outputs": [
    {
     "name": "stdout",
     "output_type": "stream",
     "text": [
      "CBS -2.601223685943592\n"
     ]
    }
   ],
   "source": [
    "min_skewness = 0\n",
    "for publisher in publishers:\n",
    "    if isinstance(publisher,float):\n",
    "        continue\n",
    "    tmp = data[data[\"Original channel\"] == publisher]\n",
    "    if len(tmp) < 5:\n",
    "        continue\n",
    "    skewness = skew(tmp[\"avg_score\"])\n",
    "    if min_skewness > skewness:\n",
    "        min_skewness = skewness\n",
    "        best_publisher = publisher\n",
    "print(best_publisher, min_skewness)"
   ]
  },
  {
   "cell_type": "code",
   "execution_count": 147,
   "id": "c16f88bb-00d8-462d-9a7a-6e43b3035bb3",
   "metadata": {},
   "outputs": [
    {
     "name": "stdout",
     "output_type": "stream",
     "text": [
      "traditional/live-action -3.23075040578544\n"
     ]
    }
   ],
   "source": [
    "min_skewness = 0\n",
    "for technique in techniques:\n",
    "    if isinstance(technique,float):\n",
    "        continue\n",
    "    tmp = data[data[\"Technique\"] == technique]\n",
    "    if len(tmp) < 5:\n",
    "        continue\n",
    "    skewness = skew(tmp[\"avg_score\"])\n",
    "    if min_skewness > skewness:\n",
    "        min_skewness = skewness\n",
    "        best_technique = technique\n",
    "print(best_technique, min_skewness)"
   ]
  },
  {
   "cell_type": "markdown",
   "id": "fff8a0e3-7259-4bcf-b15f-58514a74e136",
   "metadata": {},
   "source": [
    "From approach 2, we can conclude that an animated TV series that produces by Filmation, uses Traditional/Live-action technique and publishes through CBS will produce the best result."
   ]
  },
  {
   "cell_type": "code",
   "execution_count": null,
   "id": "094366a4-0e7f-4d6b-b9ca-a77e1884e3c5",
   "metadata": {},
   "outputs": [],
   "source": []
  }
 ],
 "metadata": {
  "kernelspec": {
   "display_name": "Python 3 (ipykernel)",
   "language": "python",
   "name": "python3"
  },
  "language_info": {
   "codemirror_mode": {
    "name": "ipython",
    "version": 3
   },
   "file_extension": ".py",
   "mimetype": "text/x-python",
   "name": "python",
   "nbconvert_exporter": "python",
   "pygments_lexer": "ipython3",
   "version": "3.12.2"
  }
 },
 "nbformat": 4,
 "nbformat_minor": 5
}
